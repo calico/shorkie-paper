{
 "cells": [
  {
   "cell_type": "code",
   "execution_count": 1,
   "id": "2e367bca",
   "metadata": {},
   "outputs": [],
   "source": [
    "import os\n",
    "import sys\n",
    "import time\n",
    "import pandas as pd\n",
    "import numpy as np"
   ]
  },
  {
   "cell_type": "code",
   "execution_count": 2,
   "id": "f762f6e1",
   "metadata": {
    "scrolled": true
   },
   "outputs": [
    {
     "name": "stdout",
     "output_type": "stream",
     "text": [
      "len(df_txt) = 1505\n",
      "len(df_csv) = 1502\n",
      "len(df) = 1501\n"
     ]
    }
   ],
   "source": [
    "#Load list of species (from ensembl txt file)\n",
    "df_txt = pd.read_csv(\"species_EnsemblFungi.txt\", sep='\\t')\n",
    "df_txt = df_txt.query(\"species == 'EnsemblFungi'\").copy().reset_index()\n",
    "\n",
    "df_txt = df_txt[[\n",
    "    '#name',\n",
    "    'assembly',\n",
    "    'taxonomy_id',\n",
    "    'other_alignments',\n",
    "]].rename(columns={\n",
    "    '#name' : 'Species_str',\n",
    "    'taxonomy_id' : 'assembly',\n",
    "    'assembly' : 'assembly_accession',\n",
    "    'other_alignments' : 'Core_db',\n",
    "})\n",
    "\n",
    "print(\"len(df_txt) = \" + str(len(df_txt)))\n",
    "\n",
    "#Load list of species (from ensembl csv file)\n",
    "df_csv = pd.read_csv(\"species.csv\", sep=',')[['Name', 'Classification', 'Taxon ID', 'Assembly', 'Accession']]\n",
    "df_csv['sort_order'] = np.arange(len(df_csv), dtype='int32')\n",
    "\n",
    "print(\"len(df_csv) = \" + str(len(df_csv)))\n",
    "\n",
    "#Join lists to get url folder suffix\n",
    "df = df_csv.join(df_txt.set_index('assembly_accession'), on='Accession', how='inner').sort_values(by='sort_order').copy().reset_index(drop=True)\n",
    "df = df.drop(columns=['sort_order'])\n",
    "\n",
    "print(\"len(df) = \" + str(len(df)))\n"
   ]
  },
  {
   "cell_type": "code",
   "execution_count": 4,
   "id": "22c3d088",
   "metadata": {},
   "outputs": [
    {
     "name": "stdout",
     "output_type": "stream",
     "text": [
      "len(df_sub) = 1\n"
     ]
    }
   ],
   "source": [
    "#1. Saccharomyces cerevisiae R64 (reference)\n",
    "\n",
    "save_suffix = '_r64'\n",
    "\n",
    "df_sub = df.loc[df['Name'].str.contains(\"Saccharomyces cerevisiae\") & df['Assembly'].str.contains(\"R64\")].copy().reset_index(drop=True)\n",
    "\n",
    "df_sub.to_csv(\"species\" + save_suffix + \".csv\", sep=',')\n",
    "df_sub.to_csv(\"species\" + save_suffix + \"_gtf.csv\", sep=',')\n",
    "\n",
    "print(\"len(df_sub) = \" + str(len(df_sub)))\n"
   ]
  },
  {
   "cell_type": "code",
   "execution_count": 5,
   "id": "0b5010bc",
   "metadata": {},
   "outputs": [
    {
     "name": "stdout",
     "output_type": "stream",
     "text": [
      "len(df_sub) = 117\n"
     ]
    }
   ],
   "source": [
    "#2. Saccharomyces cerevisiae (all strains)\n",
    "\n",
    "save_suffix = '_strains'\n",
    "\n",
    "df_sub = df.loc[df['Name'].str.contains(\"Saccharomyces cerevisiae\")].copy().reset_index(drop=True)\n",
    "\n",
    "df_sub.to_csv(\"species\" + save_suffix + \".csv\", sep=',')\n",
    "\n",
    "print(\"len(df_sub) = \" + str(len(df_sub)))\n"
   ]
  },
  {
   "cell_type": "code",
   "execution_count": 4,
   "id": "77c932b0",
   "metadata": {},
   "outputs": [
    {
     "name": "stdout",
     "output_type": "stream",
     "text": [
      "len(df_sub) = 80\n"
     ]
    }
   ],
   "source": [
    "#3. Saccharomyces cerevisiae (s288c-like strains only)\n",
    "\n",
    "save_suffix = '_strains_sm'\n",
    "\n",
    "#Get list of S288c-like YJM strains (Duke university)\n",
    "strain_df = pd.read_csv('yeast_yjm_strains.csv', sep=',')\n",
    "strain_df = strain_df.query(\"S288c_like == 'S288c-like'\").copy().reset_index(drop=True)\n",
    "strain_df['strain_id'] = 'Sc_' + strain_df['strain_id'] + '_v1'\n",
    "\n",
    "df_sub = df.loc[df['Name'].str.contains(\"Saccharomyces cerevisiae\") & (df['Assembly'].isin(strain_df['strain_id'].values.tolist()) | (df['Assembly'] == 'R64-1-1'))].copy().reset_index(drop=True)\n",
    "\n",
    "df_sub.to_csv(\"species\" + save_suffix + \".csv\", sep=',')\n",
    "df_sub.to_csv(\"species\" + save_suffix + \"_gtf.csv\", sep=',')\n",
    "\n",
    "print(\"len(df_sub) = \" + str(len(df_sub)))\n"
   ]
  },
  {
   "cell_type": "code",
   "execution_count": 6,
   "id": "e2a83114",
   "metadata": {},
   "outputs": [
    {
     "name": "stdout",
     "output_type": "stream",
     "text": [
      "len(df_sub) = 167\n"
     ]
    }
   ],
   "source": [
    "#4. Saccharomycetales (entire classification; no Saccharomyces)\n",
    "\n",
    "save_suffix = '_saccharomycetales'\n",
    "\n",
    "df_sub = df.loc[(df['Classification'] == \"Saccharomycetales\") & ((~df['Name'].str.contains(\"Saccharomyces\")) | (df['Assembly'] == 'R64-1-1'))].copy().reset_index(drop=True)\n",
    "\n",
    "df_sub.to_csv(\"species\" + save_suffix + \".csv\", sep=',')\n",
    "\n",
    "print(\"len(df_sub) = \" + str(len(df_sub)))\n"
   ]
  },
  {
   "cell_type": "code",
   "execution_count": 7,
   "id": "3a0d5a74",
   "metadata": {},
   "outputs": [
    {
     "name": "stdout",
     "output_type": "stream",
     "text": [
      "len(df_sub) = 1380\n"
     ]
    }
   ],
   "source": [
    "#5. All fungal species (no Saccharomyces)\n",
    "\n",
    "save_suffix = '_fungi'\n",
    "\n",
    "df_sub = df.loc[(~df['Name'].str.contains(\"Saccharomyces\")) | (df['Assembly'] == 'R64-1-1')].copy().reset_index(drop=True)\n",
    "\n",
    "df_sub.to_csv(\"species\" + save_suffix + \".csv\", sep=',')\n",
    "\n",
    "print(\"len(df_sub) = \" + str(len(df_sub)))\n"
   ]
  },
  {
   "cell_type": "code",
   "execution_count": 8,
   "id": "07a3b02e",
   "metadata": {},
   "outputs": [
    {
     "name": "stdout",
     "output_type": "stream",
     "text": [
      "len(df_sub) = 10\n"
     ]
    }
   ],
   "source": [
    "#6. Small number of high-quality genomes (no Saccharomyces)\n",
    "\n",
    "save_suffix = '_fungi'\n",
    "\n",
    "acc_list = [\n",
    "    'GCA_000146045.2', #Saccharomyces cerevisiae, R64-1-1\n",
    "    'GCA_000002945.2', #Schizosaccharomyces pombe, ASM294v2\n",
    "    'GCA_000182965.3', #Candida albicans, GCA000182965v3\n",
    "    'GCA_000002545.2', #Candida glabrata, GCA000002545v2\n",
    "    'GCA_002759435.2', #Candida auris, GCA002759435v2\n",
    "    'GCA_000004155.2', #Schizosaccharomyces cryophilus, SCY4\n",
    "    'GCA_000091025.3', #Ashbya gossypii, ASM9102v1\n",
    "    'GCA_000002525.1'  #Yarrowia lipolytica, ASM252v1\n",
    "\n",
    "# Candida auris\tcandida_auris\tEnsemblFungi\t498019\tGCA002759435v2\tGCA_002759435.2\t2017-11-15\tN\tN\tN\tY\tN\tY\tcandida_auris_core_59_112_2\t1\t\n",
    "# Schizosaccharomyces cryophilus\tschizosaccharomyces_cryophilus\tEnsemblFungi\t653667\tSCY4\tGCA_000004155.2\t2013-08-Broad\tN\tN\tN\tY\tY\tY\tschizosaccharomyces_cryophilus_core_59_112_2\t1\t\n",
    "# Ashbya gossypii\tashbya_gossypii\tEnsemblFungi\t284811\tASM9102v1\tGCA_000091025.3\t2010-10-AGD\tN\tY\tN\tY\tY\tY\tashbya_gossypii_core_59_112_1\t1\t\n",
    "# Yarrowia lipolytica\tyarrowia_lipolytica\tEnsemblFungi\t284591\tASM252v1\tGCA_000002525.1\t2012-05-Genolevures\tN\tN\tN\tY\tN\tY\tyarrowia_lipolytica_core_59_112_1\t1\t\n",
    "    # 'GCA_000149925.1', #Puccinia graminis, ASM14992v1\n",
    "    # 'GCA_000219625.1', #Zymoseptoria tritici, MG2\n",
    "    # 'GCA_000011425.1', #Aspergillus nidulans, ASM1142v1\n",
    "    # 'GCA_000002495.2', #Magnaporthe oryzae, MG8\n",
    "    # 'GCA_000182925.2', #Neurospora crassa, NC12\n",
    "    # 'GCA_000222805.1', #Fusarium oxysporum, FO2\n",
    "]\n",
    "\n",
    "df_sub = df.loc[df['Accession'].isin(acc_list)].copy().reset_index(drop=True)\n",
    "\n",
    "df_sub.to_csv(\"species\" + save_suffix + \".csv\", sep=',')\n",
    "df_sub.to_csv(\"species\" + save_suffix + \"_gtf.csv\", sep=',')\n",
    "\n",
    "print(\"len(df_sub) = \" + str(len(df_sub)))\n"
   ]
  },
  {
   "cell_type": "code",
   "execution_count": 20,
   "id": "462b541a",
   "metadata": {},
   "outputs": [
    {
     "name": "stdout",
     "output_type": "stream",
     "text": [
      "len(df_sub) = 1385\n"
     ]
    }
   ],
   "source": [
    "# Fungi (reference)\n",
    "\n",
    "save_suffix = '_fungi_1385'\n",
    "\n",
    "# df_sub = df[~df['Name'].str.contains('Saccharomyces cerevisiae', case=False, na=False)]\n",
    "\n",
    "df_sub = df[~((df['Name'].str.contains('Saccharomyces cerevisiae', case=False, na=False)) & (df['Assembly'] != 'R64-1-1'))]\n",
    "\n",
    "df_sub.to_csv(\"species\" + save_suffix + \".csv\", sep=',')\n",
    "df_sub.to_csv(\"species\" + save_suffix + \"_gtf.csv\", sep=',')\n",
    "\n",
    "print(\"len(df_sub) = \" + str(len(df_sub)))\n"
   ]
  },
  {
   "cell_type": "code",
   "execution_count": null,
   "id": "d59d17c6",
   "metadata": {},
   "outputs": [],
   "source": []
  }
 ],
 "metadata": {
  "kernelspec": {
   "display_name": "tensorflow",
   "language": "python",
   "name": "python3"
  },
  "language_info": {
   "codemirror_mode": {
    "name": "ipython",
    "version": 3
   },
   "file_extension": ".py",
   "mimetype": "text/x-python",
   "name": "python",
   "nbconvert_exporter": "python",
   "pygments_lexer": "ipython3",
   "version": "3.10.13"
  }
 },
 "nbformat": 4,
 "nbformat_minor": 5
}
